{
 "cells": [
  {
   "cell_type": "markdown",
   "metadata": {},
   "source": [
    "Some documentation on the FITBIT rest API : https://dev.fitbit.com/reference/web-api/quickstart/"
   ]
  },
  {
   "cell_type": "markdown",
   "metadata": {},
   "source": [
    "Some documentation on the OAuth implementation at fitbit: https://dev.fitbit.com/apps/oauthinteractivetutorial?clientEncodedId=CLIENT&clientSecret=CLIENTSECRET&redirectUri=https://github.com/Bennoo/datagram/&applicationType=PERSONAL"
   ]
  },
  {
   "cell_type": "markdown",
   "metadata": {},
   "source": [
    "First, choose the type of flow your application will use. Implicit grant flow is for use in client-side applications that cannot keep a secret because they distribute their source code to the client (web apps, mobile apps). The authorization code flow is for server-side applications that can keep a secret. If possible, use the authorization code flow, because while both flows are secure, it provides additional security."
   ]
  },
  {
   "cell_type": "markdown",
   "metadata": {},
   "source": [
    "Le but est d'obtenir un code d'accès : https://www.fitbit.com/oauth2/authorize?response_type=code&client_id=CLIENT&redirect_uri=https%3A%2F%2Fgithub.com%2FBennoo%2Fdatagram%2F&scope=heartrate&expires_in=6048000"
   ]
  },
  {
   "cell_type": "markdown",
   "metadata": {},
   "source": [
    "il faut récuperer le code en retour /!\\ Don't include the “#_=_”!\n",
    "Composer ensuite la requete suivante qui permet de récuperer le token:\n",
    "\n",
    "POST sur https://api.fitbit.com/oauth2/token \n",
    "1. headers : \n",
    "    * Authorization: Basic ENCODED' \n",
    "    * 'Content-Type: application/x-www-form-urlencoded'\n",
    "2. form data : \n",
    "    * \"clientId=CLIENT\"\n",
    "    * \"grant_type=authorization_code\"\n",
    "    * \"redirect_uri=https%3A%2F%2Fgithub.com%2FBennoo%2Fdatagram%2F\"\n",
    "    * \"code=RECEIVEDCODE\""
   ]
  },
  {
   "cell_type": "markdown",
   "metadata": {},
   "source": [
    "https://api.fitbit.com/1/user/-/activities/heart/date/today/7d.json\n",
    "\n",
    "Avec le authorization header Bearer suivi du token obtenu"
   ]
  },
  {
   "cell_type": "code",
   "execution_count": null,
   "metadata": {
    "collapsed": true
   },
   "outputs": [],
   "source": []
  }
 ],
 "metadata": {
  "kernelspec": {
   "display_name": "Python 3",
   "language": "python",
   "name": "python3"
  },
  "language_info": {
   "codemirror_mode": {
    "name": "ipython",
    "version": 3
   },
   "file_extension": ".py",
   "mimetype": "text/x-python",
   "name": "python",
   "nbconvert_exporter": "python",
   "pygments_lexer": "ipython3",
   "version": "3.6.3"
  }
 },
 "nbformat": 4,
 "nbformat_minor": 2
}
